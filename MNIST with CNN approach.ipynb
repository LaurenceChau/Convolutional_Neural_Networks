{
 "cells": [
  {
   "cell_type": "markdown",
   "metadata": {},
   "source": [
    "# Import Module"
   ]
  },
  {
   "cell_type": "code",
   "execution_count": 31,
   "metadata": {},
   "outputs": [],
   "source": [
    "import numpy as np\n",
    "import pandas as pd\n",
    "import matplotlib.pyplot as plt\n",
    "import seaborn as sns\n",
    "import tensorflow as tf\n",
    "from tensorflow.keras.datasets import mnist"
   ]
  },
  {
   "cell_type": "markdown",
   "metadata": {},
   "source": [
    "# Import Data"
   ]
  },
  {
   "cell_type": "code",
   "execution_count": 32,
   "metadata": {},
   "outputs": [],
   "source": [
    "(X_train, y_train), (X_test, y_test) = mnist.load_data(path='mnist.npz')"
   ]
  },
  {
   "cell_type": "code",
   "execution_count": 33,
   "metadata": {},
   "outputs": [],
   "source": [
    "X_train, X_test = X_train/255.0, X_test/255.0"
   ]
  },
  {
   "cell_type": "code",
   "execution_count": 34,
   "metadata": {},
   "outputs": [
    {
     "data": {
      "text/plain": [
       "((60000, 28, 28), (60000,))"
      ]
     },
     "execution_count": 34,
     "metadata": {},
     "output_type": "execute_result"
    }
   ],
   "source": [
    "X_train.shape, y_train.shape"
   ]
  },
  {
   "cell_type": "code",
   "execution_count": 35,
   "metadata": {},
   "outputs": [
    {
     "data": {
      "text/plain": [
       "((10000, 28, 28), (10000,))"
      ]
     },
     "execution_count": 35,
     "metadata": {},
     "output_type": "execute_result"
    }
   ],
   "source": [
    "X_test.shape, y_test.shape"
   ]
  },
  {
   "cell_type": "code",
   "execution_count": 36,
   "metadata": {},
   "outputs": [
    {
     "data": {
      "text/plain": [
       "<matplotlib.image.AxesImage at 0x26b075119e8>"
      ]
     },
     "execution_count": 36,
     "metadata": {},
     "output_type": "execute_result"
    },
    {
     "data": {
      "image/png": "[encoded data removed]",
      "text/plain": [
       "<Figure size 432x288 with 1 Axes>"
      ]
     },
     "metadata": {
      "needs_background": "light"
     },
     "output_type": "display_data"
    }
   ],
   "source": [
    "plt.imshow(X_train[0])"
   ]
  },
  {
   "cell_type": "code",
   "execution_count": 37,
   "metadata": {},
   "outputs": [],
   "source": [
    "def one_hot_encoder(arr):\n",
    "    d = []\n",
    "    for a in arr:\n",
    "        dummy = np.zeros(10)\n",
    "        dummy[a] = 1\n",
    "        d.append(dummy)\n",
    "    return np.array(d)"
   ]
  },
  {
   "cell_type": "code",
   "execution_count": 38,
   "metadata": {},
   "outputs": [
    {
     "data": {
      "text/plain": [
       "(10000, 10)"
      ]
     },
     "execution_count": 38,
     "metadata": {},
     "output_type": "execute_result"
    }
   ],
   "source": [
    "onehot_y_test = one_hot_encoder(y_test)\n",
    "onehot_y_test.shape"
   ]
  },
  {
   "cell_type": "code",
   "execution_count": 39,
   "metadata": {},
   "outputs": [
    {
     "data": {
      "text/plain": [
       "(60000, 10)"
      ]
     },
     "execution_count": 39,
     "metadata": {},
     "output_type": "execute_result"
    }
   ],
   "source": [
    "onehot_y_train = one_hot_encoder(y_train)\n",
    "onehot_y_train.shape"
   ]
  },
  {
   "cell_type": "markdown",
   "metadata": {},
   "source": [
    "# Convolution Neural Network Model"
   ]
  },
  {
   "cell_type": "markdown",
   "metadata": {},
   "source": [
    "<img src=\"cnn graph.PNG\" width=\"400\" height=\"200\">"
   ]
  },
  {
   "cell_type": "markdown",
   "metadata": {},
   "source": [
    "input\n",
    "reshape\n",
    "convolution layer 1\n",
    "sampling 1\n",
    "convolution layer 2\n",
    "sampling 2\n",
    "reshape\n",
    "dnn layer"
   ]
  },
  {
   "cell_type": "code",
   "execution_count": 64,
   "metadata": {},
   "outputs": [],
   "source": [
    "#parameter\n",
    "learning_rate = 0.0001\n",
    "input_shape = [None, 28, 28]\n",
    "image_shape = [-1, 28, 28, 1]\n",
    "filter1_shape = [6, 6, 1, 32]\n",
    "filter2_shape = [6, 6, 32, 64]\n",
    "pooling_window_size = [1, 2, 2, 1]\n",
    "n_output = 10\n",
    "n_epoch = 6\n",
    "batch_size = 50"
   ]
  },
  {
   "cell_type": "code",
   "execution_count": 69,
   "metadata": {},
   "outputs": [],
   "source": [
    "#init weight func\n",
    "def init_weight(shape):\n",
    "    init_weight = tf.truncated_normal(shape=shape, stddev=0.1)\n",
    "    return tf.Variable(init_weight)"
   ]
  },
  {
   "cell_type": "code",
   "execution_count": 70,
   "metadata": {},
   "outputs": [],
   "source": [
    "#init bias func\n",
    "def init_bias(shape):\n",
    "    init_bias = tf.constant(0.1,shape=shape)\n",
    "    return tf.Variable(init_bias)"
   ]
  },
  {
   "cell_type": "code",
   "execution_count": 71,
   "metadata": {},
   "outputs": [],
   "source": [
    "#input layer\n",
    "input_x = tf.placeholder(dtype=tf.float32, shape=input_shape)"
   ]
  },
  {
   "cell_type": "code",
   "execution_count": 72,
   "metadata": {},
   "outputs": [],
   "source": [
    "#reshape the input image to image tensor\n",
    "image_x = tf.reshape(input_x, shape=image_shape)"
   ]
  },
  {
   "cell_type": "code",
   "execution_count": 73,
   "metadata": {},
   "outputs": [],
   "source": [
    "#convolution layer 1\n",
    "w1 = init_weight(filter1_shape)\n",
    "b1 = init_bias([filter1_shape[3]])\n",
    "conv2d_1 = tf.nn.conv2d(image_x, w1, strides=[1,1,1,1], padding='SAME')\n",
    "conv_layer_1 = tf.nn.relu(conv2d_1 + b1)"
   ]
  },
  {
   "cell_type": "code",
   "execution_count": 74,
   "metadata": {},
   "outputs": [],
   "source": [
    "#pooling layre 1\n",
    "pooling_1 = tf.nn.max_pool(conv_layer_1, ksize=pooling_window_size, strides=[1, 2, 2, 1], padding='SAME')"
   ]
  },
  {
   "cell_type": "code",
   "execution_count": 75,
   "metadata": {},
   "outputs": [],
   "source": [
    "#convolution layer 2\n",
    "w2 = init_weight(filter2_shape)\n",
    "b2 = init_bias([filter2_shape[3]])\n",
    "conv2d_2 = tf.nn.conv2d(pooling_1, w2, strides=[1,1,1,1], padding='SAME')\n",
    "conv_layer_2 = tf.nn.relu(conv2d_2 + b2)"
   ]
  },
  {
   "cell_type": "code",
   "execution_count": 76,
   "metadata": {},
   "outputs": [],
   "source": [
    "#pooling layre 2\n",
    "pooling_2 = tf.nn.max_pool(conv_layer_2, ksize=pooling_window_size, strides=[1,2,2,1], padding='SAME')"
   ]
  },
  {
   "cell_type": "code",
   "execution_count": 77,
   "metadata": {},
   "outputs": [],
   "source": [
    "reshape_input = tf.reshape(pooling_2,shape=[-1, 7*7*64])"
   ]
  },
  {
   "cell_type": "code",
   "execution_count": 78,
   "metadata": {},
   "outputs": [],
   "source": [
    "#Fully Connected Layer\n",
    "w3 = init_weight([7*7*64, 1024])\n",
    "b3 = init_bias([1024])\n",
    "dnn_layer = tf.nn.relu(tf.matmul(reshape_input, w3) + b3)"
   ]
  },
  {
   "cell_type": "code",
   "execution_count": 79,
   "metadata": {},
   "outputs": [],
   "source": [
    "#drop out layer\n",
    "hold_prob = tf.placeholder(tf.float32)\n",
    "drop_out_layer = tf.nn.dropout(dnn_layer, keep_prob=hold_prob)"
   ]
  },
  {
   "cell_type": "code",
   "execution_count": 80,
   "metadata": {},
   "outputs": [],
   "source": [
    "#output\n",
    "w_out = init_weight([1024, n_output])\n",
    "b_out = init_bias([n_output])\n",
    "y_output = tf.matmul(drop_out_layer, w_out) + b_out"
   ]
  },
  {
   "cell_type": "code",
   "execution_count": 81,
   "metadata": {},
   "outputs": [],
   "source": [
    "#y_true\n",
    "y_true = tf.placeholder(dtype=tf.float32, shape=[None, 10])"
   ]
  },
  {
   "cell_type": "code",
   "execution_count": 82,
   "metadata": {},
   "outputs": [],
   "source": [
    "#cross entropy\n",
    "cross_entropy = tf.reduce_mean(tf.nn.softmax_cross_entropy_with_logits_v2(labels=y_true, logits=y_output))"
   ]
  },
  {
   "cell_type": "code",
   "execution_count": 83,
   "metadata": {},
   "outputs": [],
   "source": [
    "#optimizer\n",
    "optimizer = tf.train.AdamOptimizer(learning_rate=learning_rate)"
   ]
  },
  {
   "cell_type": "code",
   "execution_count": 84,
   "metadata": {},
   "outputs": [],
   "source": [
    "train = optimizer.minimize(cross_entropy)"
   ]
  },
  {
   "cell_type": "code",
   "execution_count": 85,
   "metadata": {},
   "outputs": [],
   "source": [
    "#initialize variables\n",
    "init = tf.global_variables_initializer()"
   ]
  },
  {
   "cell_type": "code",
   "execution_count": 86,
   "metadata": {},
   "outputs": [
    {
     "name": "stdout",
     "output_type": "stream",
     "text": [
      "number of epoch:  0\n",
      "accuracy after 0 steps: \n",
      "0.0961\n",
      "accuracy after 100 steps: \n",
      "0.8312\n",
      "accuracy after 200 steps: \n",
      "0.9047\n",
      "accuracy after 300 steps: \n",
      "0.9239\n",
      "accuracy after 400 steps: \n",
      "0.9348\n",
      "accuracy after 500 steps: \n",
      "0.9437\n",
      "accuracy after 600 steps: \n",
      "0.9508\n",
      "accuracy after 700 steps: \n",
      "0.9535\n",
      "accuracy after 800 steps: \n",
      "0.9545\n",
      "accuracy after 900 steps: \n",
      "0.9582\n",
      "accuracy after 1000 steps: \n",
      "0.9592\n",
      "accuracy after 1100 steps: \n",
      "0.9655\n",
      "number of epoch:  1\n",
      "accuracy after 0 steps: \n",
      "0.96\n",
      "accuracy after 100 steps: \n",
      "0.9679\n",
      "accuracy after 200 steps: \n",
      "0.965\n",
      "accuracy after 300 steps: \n",
      "0.9703\n",
      "accuracy after 400 steps: \n",
      "0.9702\n",
      "accuracy after 500 steps: \n",
      "0.9721\n",
      "accuracy after 600 steps: \n",
      "0.9737\n",
      "accuracy after 700 steps: \n",
      "0.9729\n",
      "accuracy after 800 steps: \n",
      "0.973\n",
      "accuracy after 900 steps: \n",
      "0.9746\n",
      "accuracy after 1000 steps: \n",
      "0.9757\n",
      "accuracy after 1100 steps: \n",
      "0.9775\n",
      "number of epoch:  2\n",
      "accuracy after 0 steps: \n",
      "0.9744\n",
      "accuracy after 100 steps: \n",
      "0.977\n",
      "accuracy after 200 steps: \n",
      "0.975\n",
      "accuracy after 300 steps: \n",
      "0.9791\n",
      "accuracy after 400 steps: \n",
      "0.9791\n",
      "accuracy after 500 steps: \n",
      "0.9791\n",
      "accuracy after 600 steps: \n",
      "0.9795\n",
      "accuracy after 700 steps: \n",
      "0.9777\n",
      "accuracy after 800 steps: \n",
      "0.9768\n",
      "accuracy after 900 steps: \n",
      "0.9809\n",
      "accuracy after 1000 steps: \n",
      "0.9812\n",
      "accuracy after 1100 steps: \n",
      "0.9819\n",
      "number of epoch:  3\n",
      "accuracy after 0 steps: \n",
      "0.9809\n",
      "accuracy after 100 steps: \n",
      "0.9825\n",
      "accuracy after 200 steps: \n",
      "0.9803\n",
      "accuracy after 300 steps: \n",
      "0.9835\n",
      "accuracy after 400 steps: \n",
      "0.9836\n",
      "accuracy after 500 steps: \n",
      "0.9835\n",
      "accuracy after 600 steps: \n",
      "0.9843\n",
      "accuracy after 700 steps: \n",
      "0.9838\n",
      "accuracy after 800 steps: \n",
      "0.984\n",
      "accuracy after 900 steps: \n",
      "0.9849\n",
      "accuracy after 1000 steps: \n",
      "0.9839\n",
      "accuracy after 1100 steps: \n",
      "0.985\n",
      "number of epoch:  4\n",
      "accuracy after 0 steps: \n",
      "0.983\n",
      "accuracy after 100 steps: \n",
      "0.9849\n",
      "accuracy after 200 steps: \n",
      "0.9832\n",
      "accuracy after 300 steps: \n",
      "0.9857\n",
      "accuracy after 400 steps: \n",
      "0.9861\n",
      "accuracy after 500 steps: \n",
      "0.9864\n",
      "accuracy after 600 steps: \n",
      "0.987\n",
      "accuracy after 700 steps: \n",
      "0.9845\n",
      "accuracy after 800 steps: \n",
      "0.9853\n",
      "accuracy after 900 steps: \n",
      "0.9856\n",
      "accuracy after 1000 steps: \n",
      "0.986\n",
      "accuracy after 1100 steps: \n",
      "0.9869\n",
      "number of epoch:  5\n",
      "accuracy after 0 steps: \n",
      "0.9849\n",
      "accuracy after 100 steps: \n",
      "0.9875\n",
      "accuracy after 200 steps: \n",
      "0.9832\n",
      "accuracy after 300 steps: \n",
      "0.9874\n",
      "accuracy after 400 steps: \n",
      "0.9875\n",
      "accuracy after 500 steps: \n",
      "0.9881\n",
      "accuracy after 600 steps: \n",
      "0.9879\n",
      "accuracy after 700 steps: \n",
      "0.9886\n",
      "accuracy after 800 steps: \n",
      "0.9864\n",
      "accuracy after 900 steps: \n",
      "0.9884\n",
      "accuracy after 1000 steps: \n",
      "0.9882\n",
      "accuracy after 1100 steps: \n",
      "0.9882\n"
     ]
    }
   ],
   "source": [
    "with tf.Session() as sess:\n",
    "    sess.run(init)\n",
    "    for e in range(n_epoch):\n",
    "        print('number of epoch: ', e)\n",
    "        steps = int(X_train.shape[0]/batch_size)\n",
    "        for i in range(steps):\n",
    "            X_batch = X_train[i*batch_size: i*batch_size + batch_size]\n",
    "            y_batch = onehot_y_train[i*batch_size:i*batch_size + batch_size]\n",
    "            sess.run(train, feed_dict={input_x:X_batch, hold_prob:0.5, y_true:y_batch})\n",
    "            #calcuate the accuracy:\n",
    "            if i % 100 == 0:\n",
    "                matches = tf.equal(tf.argmax(y_output, 1), tf.argmax(onehot_y_test, 1))\n",
    "                acc = tf.reduce_mean(tf.cast(matches, tf.float32))\n",
    "                print('accuracy after {} steps: '.format(i))\n",
    "                print(sess.run(acc, feed_dict={input_x:X_test, hold_prob:1.0}))"
   ]
  },
  {
   "cell_type": "code",
   "execution_count": null,
   "metadata": {},
   "outputs": [],
   "source": []
  }
 ],
 "metadata": {
  "kernelspec": {
   "display_name": "Python 3",
   "language": "python",
   "name": "python3"
  },
  "language_info": {
   "codemirror_mode": {
    "name": "ipython",
    "version": 3
   },
   "file_extension": ".py",
   "mimetype": "text/x-python",
   "name": "python",
   "nbconvert_exporter": "python",
   "pygments_lexer": "ipython3",
   "version": "3.6.7"
  }
 },
 "nbformat": 4,
 "nbformat_minor": 2
}
